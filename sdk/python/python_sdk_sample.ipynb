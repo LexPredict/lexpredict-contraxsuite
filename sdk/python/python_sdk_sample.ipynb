{
 "cells": [
  {
   "cell_type": "code",
   "execution_count": 1,
   "metadata": {},
   "outputs": [],
   "source": [
    "import os\n",
    "os.chdir('./sdk')\n",
    "\n",
    "\n",
    "import openapi_client\n",
    "from pprint import pprint"
   ]
  },
  {
   "cell_type": "code",
   "execution_count": null,
   "metadata": {},
   "outputs": [],
   "source": [
    "HOST = \"http://127.0.0.1:3355\"\n",
    "USERNAME = \"username\"\n",
    "PASSWORD = 'password'"
   ]
  },
  {
   "cell_type": "code",
   "execution_count": 5,
   "metadata": {},
   "outputs": [],
   "source": [
    "configuration = openapi_client.Configuration(\n",
    "    host = HOST,\n",
    "    discard_unknown_keys = True,\n",
    ")   \n",
    "\n",
    "api_client = openapi_client.ApiClient(configuration)                                                                            "
   ]
  },
  {
   "cell_type": "code",
   "execution_count": 6,
   "metadata": {},
   "outputs": [
    {
     "name": "stdout",
     "output_type": "stream",
     "text": [
      "5a68479f1e6aa8a5ebc6347be3ec4625b0819d38\n"
     ]
    }
   ],
   "source": [
    "# authenticate\n",
    "from openapi_client.api import rest_auth_api\n",
    "from openapi_client.model.login import Login\n",
    "\n",
    "api_instance = rest_auth_api.RestAuthApi(api_client)\n",
    "login = Login(username=USERNAME, password=PASSWORD)\n",
    "\n",
    "auth_resp = api_instance.rest_auth_login_post(login=login)\n",
    "print(auth_resp['key'])"
   ]
  },
  {
   "cell_type": "markdown",
   "metadata": {},
   "source": [
    "### Important! set auth token for api authentication"
   ]
  },
  {
   "cell_type": "code",
   "execution_count": 7,
   "metadata": {},
   "outputs": [],
   "source": [
    "api_client.configuration.api_key = {'AuthToken': f'Token {auth_resp[\"key\"]}'}"
   ]
  },
  {
   "cell_type": "markdown",
   "metadata": {},
   "source": [
    "# SDK tests"
   ]
  },
  {
   "cell_type": "markdown",
   "metadata": {},
   "source": [
    "## 1. Common app"
   ]
  },
  {
   "cell_type": "markdown",
   "metadata": {},
   "source": [
    "### 1.1. common/app-var"
   ]
  },
  {
   "cell_type": "code",
   "execution_count": 8,
   "metadata": {},
   "outputs": [
    {
     "name": "stdout",
     "output_type": "stream",
     "text": [
      "{'release_version': '2.1.0'}\n"
     ]
    }
   ],
   "source": [
    "from openapi_client.api import common_api\n",
    "api_instance = common_api.CommonApi(api_client)\n",
    "\n",
    "name = \"release_version\"\n",
    "\n",
    "api_response = api_instance.common_app_variables_get(name=name)\n",
    "print(api_response)"
   ]
  },
  {
   "cell_type": "code",
   "execution_count": 9,
   "metadata": {},
   "outputs": [
    {
     "name": "stdout",
     "output_type": "stream",
     "text": [
      "[{'category': 'Common', 'name': 'track_api', 'value': False},\n",
      " {'category': 'Common', 'name': 'track_api_greater_than', 'value': 250},\n",
      " {'category': 'Common', 'name': 'track_api_save_sql_log', 'value': False},\n",
      " {'category': 'Mail server',\n",
      " 'name': 'non_tracked_link_attr',\n",
      " 'value': 'clicktracking=off'},\n",
      " {'category': 'Task', 'name': 'extra_allowed_for_tracking', 'value': ''},\n",
      " {'category': 'Task', 'name': 'extra_excluded_from_tracking', 'value': ''}]\n"
     ]
    }
   ],
   "source": [
    "jq_filters = {\n",
    "    \"filterscount\": 1,\n",
    "    \"filterdatafield0\": \"name\",\n",
    "    \"filtervalue0\": \"track\",\n",
    "    \"filtercondition0\": \"CONTAINS\"\n",
    "}\n",
    "\n",
    "api_response = api_instance.common_app_variables_list_get(jq_filters=jq_filters)\n",
    "pprint(api_response)"
   ]
  },
  {
   "cell_type": "code",
   "execution_count": null,
   "metadata": {},
   "outputs": [],
   "source": []
  }
 ],
 "metadata": {
  "kernelspec": {
   "display_name": "Python 3 (ipykernel)",
   "language": "python",
   "name": "python3"
  },
  "language_info": {
   "codemirror_mode": {
    "name": "ipython",
    "version": 3
   },
   "file_extension": ".py",
   "mimetype": "text/x-python",
   "name": "python",
   "nbconvert_exporter": "python",
   "pygments_lexer": "ipython3",
   "version": "3.8.10"
  }
 },
 "nbformat": 4,
 "nbformat_minor": 4
}
