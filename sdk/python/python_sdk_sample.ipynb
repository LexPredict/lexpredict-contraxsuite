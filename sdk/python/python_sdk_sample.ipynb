{
 "cells": [
  {
   "cell_type": "code",
   "execution_count": 1,
   "metadata": {},
   "outputs": [],
   "source": [
    "import os\n",
    "os.chdir('./sdk')\n",
    "\n",
    "\n",
    "import openapi_client\n",
    "from pprint import pprint"
   ]
  },
  {
   "cell_type": "code",
   "execution_count": 12,
   "metadata": {},
   "outputs": [],
   "source": [
    "configuration = openapi_client.Configuration(\n",
    "    host = \"http://127.0.0.1:3355\",\n",
    "    discard_unknown_keys = True,\n",
    "#     api_key={'AuthToken': f'Token {auth_resp[\"key\"]}'}\n",
    ")   \n",
    "\n",
    "api_client = openapi_client.ApiClient(configuration)                                                                            "
   ]
  },
  {
   "cell_type": "code",
   "execution_count": 16,
   "metadata": {},
   "outputs": [
    {
     "name": "stdout",
     "output_type": "stream",
     "text": [
      "270186ba56bad9e1a6e5d40eb21fbf2c126719e9\n"
     ]
    }
   ],
   "source": [
    "# authenticate\n",
    "from openapi_client.api import rest_auth_api\n",
    "from openapi_client.model.login import Login\n",
    "\n",
    "api_instance = rest_auth_api.RestAuthApi(api_client)\n",
    "login = Login(username=\"username\", password=\"password\")\n",
    "\n",
    "auth_resp = api_instance.rest_auth_login_post(login=login)\n",
    "print(auth_resp['key'])"
   ]
  },
  {
   "cell_type": "markdown",
   "metadata": {},
   "source": [
    "### Important! set auth token for api authentication"
   ]
  },
  {
   "cell_type": "code",
   "execution_count": 17,
   "metadata": {},
   "outputs": [],
   "source": [
    "api_client.configuration.api_key = {'AuthToken': f'Token {auth_resp[\"key\"]}'}"
   ]
  },
  {
   "cell_type": "markdown",
   "metadata": {},
   "source": [
    "# SDK tests"
   ]
  },
  {
   "cell_type": "markdown",
   "metadata": {},
   "source": [
    "## 1. Common app"
   ]
  },
  {
   "cell_type": "markdown",
   "metadata": {},
   "source": [
    "### 1.1. common/app-var"
   ]
  },
  {
   "cell_type": "code",
   "execution_count": 22,
   "metadata": {},
   "outputs": [
    {
     "name": "stdout",
     "output_type": "stream",
     "text": [
      "{'release_version': '2.0.0'}\n"
     ]
    }
   ],
   "source": [
    "from openapi_client.api import common_api\n",
    "api_instance = common_api.CommonApi(api_client)\n",
    "\n",
    "name = \"release_version\"\n",
    "api_response = api_instance.common_app_variables_get(name=name)\n",
    "print(api_response)"
   ]
  },
  {
   "cell_type": "code",
   "execution_count": 28,
   "metadata": {},
   "outputs": [
    {
     "name": "stdout",
     "output_type": "stream",
     "text": [
      "[{'category': 'Common', 'name': 'track_api', 'value': False},\n",
      " {'category': 'Common', 'name': 'track_api_greater_than', 'value': 250},\n",
      " {'category': 'Common', 'name': 'track_api_save_sql_log', 'value': False},\n",
      " {'category': 'Task', 'name': 'extra_allowed_for_tracking', 'value': ''},\n",
      " {'category': 'Task', 'name': 'extra_excluded_from_tracking', 'value': ''}]\n"
     ]
    }
   ],
   "source": [
    "jq_filters = {\n",
    "    \"filterscount\": 1,\n",
    "    \"filterdatafield0\": \"name\",\n",
    "    \"filtervalue0\": \"track\",\n",
    "    \"filtercondition0\": \"CONTAINS\"\n",
    "}\n",
    "\n",
    "api_response = api_instance.common_app_variables_list_get(jq_filters=jq_filters)\n",
    "pprint(api_response)"
   ]
  },
  {
   "cell_type": "code",
   "execution_count": null,
   "metadata": {},
   "outputs": [],
   "source": []
  }
 ],
 "metadata": {
  "kernelspec": {
   "display_name": "Python 3",
   "language": "python",
   "name": "python3"
  },
  "language_info": {
   "codemirror_mode": {
    "name": "ipython",
    "version": 3
   },
   "file_extension": ".py",
   "mimetype": "text/x-python",
   "name": "python",
   "nbconvert_exporter": "python",
   "pygments_lexer": "ipython3",
   "version": "3.8.5"
  }
 },
 "nbformat": 4,
 "nbformat_minor": 4
}
